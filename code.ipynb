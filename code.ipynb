{
 "cells": [
  {
   "cell_type": "markdown",
   "metadata": {
    "id": "xEv_KPy_dq5M"
   },
   "source": [
    "## Import Modules"
   ]
  },
  {
   "cell_type": "code",
   "execution_count": null,
   "metadata": {
    "execution": {
     "iopub.execute_input": "2022-03-06T06:34:14.990195Z",
     "iopub.status.busy": "2022-03-06T06:34:14.989864Z",
     "iopub.status.idle": "2022-03-06T06:34:19.970661Z",
     "shell.execute_reply": "2022-03-06T06:34:19.969956Z",
     "shell.execute_reply.started": "2022-03-06T06:34:14.990114Z"
    },
    "id": "-kbjzsm7dq5N"
   },
   "outputs": [],
   "source": [
    "import os\n",
    "import pickle\n",
    "import numpy as np\n",
    "from tqdm.notebook import tqdm\n",
    "\n",
    "from tensorflow.keras.applications.vgg16 import VGG16, preprocess_input\n",
    "from tensorflow.keras.preprocessing.image import load_img, img_to_array\n",
    "from tensorflow.keras.preprocessing.text import Tokenizer\n",
    "from tensorflow.keras.preprocessing.sequence import pad_sequences\n",
    "from tensorflow.keras.models import Model\n",
    "from tensorflow.keras.utils import to_categorical, plot_model\n",
    "from tensorflow.keras.layers import Input, Dense, LSTM, Embedding, Dropout, add"
   ]
  },
  {
   "cell_type": "code",
   "execution_count": null,
   "metadata": {
    "colab": {
     "base_uri": "https://localhost:8080/"
    },
    "id": "xNIA8vfIeBq-",
    "outputId": "1f03cc7e-10ce-4bca-e512-65d0051ec8d5"
   },
   "outputs": [],
   "source": [
    "from google.colab import drive\n",
    "drive.mount('/content/drive')"
   ]
  },
  {
   "cell_type": "code",
   "execution_count": null,
   "metadata": {
    "execution": {
     "iopub.execute_input": "2022-03-06T06:34:19.972539Z",
     "iopub.status.busy": "2022-03-06T06:34:19.972303Z",
     "iopub.status.idle": "2022-03-06T06:34:19.978812Z",
     "shell.execute_reply": "2022-03-06T06:34:19.977587Z",
     "shell.execute_reply.started": "2022-03-06T06:34:19.972501Z"
    },
    "id": "kisjVlu1dq5P"
   },
   "outputs": [],
   "source": [
    "BASE_DIR = './drive/MyDrive/Classroom/kaggle'\n",
    "WORKING_DIR = './drive/MyDrive/Classroom/kaggle/working'"
   ]
  },
  {
   "cell_type": "markdown",
   "metadata": {
    "id": "M0SWcv4Mdq5P"
   },
   "source": [
    "## Extract Image Features"
   ]
  },
  {
   "cell_type": "code",
   "execution_count": null,
   "metadata": {
    "colab": {
     "base_uri": "https://localhost:8080/"
    },
    "execution": {
     "iopub.execute_input": "2022-03-06T06:34:19.982304Z",
     "iopub.status.busy": "2022-03-06T06:34:19.982057Z",
     "iopub.status.idle": "2022-03-06T06:34:26.712594Z",
     "shell.execute_reply": "2022-03-06T06:34:26.711913Z",
     "shell.execute_reply.started": "2022-03-06T06:34:19.982271Z"
    },
    "id": "mayJxuZcdq5P",
    "outputId": "d364a387-36fa-4145-9b55-18f16260f8c4"
   },
   "outputs": [],
   "source": [
    "# load vgg16 model\n",
    "model = VGG16()\n",
    "# restructure the model\n",
    "model = Model(inputs=model.inputs, outputs=model.layers[-2].output)\n",
    "# summarize\n",
    "print(model.summary())"
   ]
  },
  {
   "cell_type": "code",
   "execution_count": null,
   "metadata": {
    "colab": {
     "base_uri": "https://localhost:8080/",
     "height": 49,
     "referenced_widgets": [
      "ede3a47bee4248ea93272837b497bcab",
      "452946eefe3e4178b27b15b4cda7e224",
      "6e11e59497ff4e6788cfef418d78ecc1",
      "5cce5f9f16cb402489ea8e5d3ebe021c",
      "4a3868b17bba4171be93a1f6a1be4214",
      "fa2a4fc49e3f458da47198e72726b65a",
      "5feedc56b31e498a93d777b173c1657b",
      "1b5d1b666d5142429e83e18194dfd65f",
      "02ec522b1d214e4185f18233d4097127",
      "5a47aa12805d470eb700761dcbe522f3",
      "5961d8ecdd36474293bd2e5a4c89dfd6"
     ]
    },
    "execution": {
     "iopub.execute_input": "2022-03-06T06:34:26.714171Z",
     "iopub.status.busy": "2022-03-06T06:34:26.713924Z",
     "iopub.status.idle": "2022-03-06T06:42:34.816462Z",
     "shell.execute_reply": "2022-03-06T06:42:34.815809Z",
     "shell.execute_reply.started": "2022-03-06T06:34:26.714138Z"
    },
    "id": "K38A1Gkrdq5Q",
    "outputId": "f5e45e3c-c1ff-4e04-d8f1-54723b433a8b"
   },
   "outputs": [],
   "source": [
    "# extract features from image\n",
    "features = {}\n",
    "directory = os.path.join(BASE_DIR, 'Images')\n",
    "\n",
    "for img_name in tqdm(os.listdir(directory)):\n",
    "    # load the image from file\n",
    "    img_path = directory + '/' + img_name\n",
    "    image = load_img(img_path, target_size=(224, 224))\n",
    "    # convert image pixels to numpy array\n",
    "    image = img_to_array(image)\n",
    "    # reshape data for model\n",
    "    image = image.reshape((1, image.shape[0], image.shape[1], image.shape[2]))\n",
    "    # preprocess image for vgg\n",
    "    image = preprocess_input(image)\n",
    "    # extract features\n",
    "    feature = model.predict(image, verbose=0)\n",
    "    # get image ID\n",
    "    image_id = img_name.split('.')[0]\n",
    "    # store feature\n",
    "    features[image_id] = feature"
   ]
  },
  {
   "cell_type": "code",
   "execution_count": null,
   "metadata": {
    "execution": {
     "iopub.execute_input": "2022-03-06T06:42:34.819143Z",
     "iopub.status.busy": "2022-03-06T06:42:34.818823Z",
     "iopub.status.idle": "2022-03-06T06:42:35.148181Z",
     "shell.execute_reply": "2022-03-06T06:42:35.147422Z",
     "shell.execute_reply.started": "2022-03-06T06:42:34.819101Z"
    },
    "id": "0TRO-eOOdq5Q"
   },
   "outputs": [],
   "source": [
    "# store features in pickle\n",
    "pickle.dump(features, open(os.path.join(WORKING_DIR, 'features.pkl'), 'wb'))"
   ]
  },
  {
   "cell_type": "code",
   "execution_count": null,
   "metadata": {
    "execution": {
     "iopub.execute_input": "2022-03-06T06:42:35.150092Z",
     "iopub.status.busy": "2022-03-06T06:42:35.149415Z",
     "iopub.status.idle": "2022-03-06T06:42:35.312615Z",
     "shell.execute_reply": "2022-03-06T06:42:35.311884Z",
     "shell.execute_reply.started": "2022-03-06T06:42:35.150052Z"
    },
    "id": "6J9opbXzdq5R"
   },
   "outputs": [],
   "source": [
    "# load features from pickle\n",
    "with open(os.path.join(WORKING_DIR, 'features.pkl'), 'rb') as f:\n",
    "    features = pickle.load(f)"
   ]
  },
  {
   "cell_type": "markdown",
   "metadata": {
    "id": "KncBcCPLdq5R"
   },
   "source": [
    "## Load the Captions Data"
   ]
  },
  {
   "cell_type": "code",
   "execution_count": null,
   "metadata": {
    "execution": {
     "iopub.execute_input": "2022-03-06T06:42:35.315520Z",
     "iopub.status.busy": "2022-03-06T06:42:35.314779Z",
     "iopub.status.idle": "2022-03-06T06:42:35.378135Z",
     "shell.execute_reply": "2022-03-06T06:42:35.377462Z",
     "shell.execute_reply.started": "2022-03-06T06:42:35.315478Z"
    },
    "id": "-GVeVEW1dq5R"
   },
   "outputs": [],
   "source": [
    "with open(os.path.join(BASE_DIR, 'captions.txt'), 'r') as f:\n",
    "    next(f)\n",
    "    captions_doc = f.read()"
   ]
  },
  {
   "cell_type": "code",
   "execution_count": null,
   "metadata": {
    "execution": {
     "iopub.execute_input": "2022-03-06T06:42:35.379822Z",
     "iopub.status.busy": "2022-03-06T06:42:35.379546Z",
     "iopub.status.idle": "2022-03-06T06:42:35.520768Z",
     "shell.execute_reply": "2022-03-06T06:42:35.520076Z",
     "shell.execute_reply.started": "2022-03-06T06:42:35.379783Z"
    },
    "id": "ua2M4tIHdq5R"
   },
   "outputs": [],
   "source": [
    "# create mapping of image to captions\n",
    "mapping = {}\n",
    "# process lines\n",
    "for line in tqdm(captions_doc.split('\\n')):\n",
    "    # split the line by comma(,)\n",
    "    tokens = line.split(',')\n",
    "    if len(line) < 2:\n",
    "        continue\n",
    "    image_id, caption = tokens[0], tokens[1:]\n",
    "    # remove extension from image ID\n",
    "    image_id = image_id.split('.')[0]\n",
    "    # convert caption list to string\n",
    "    caption = \" \".join(caption)\n",
    "    # create list if needed\n",
    "    if image_id not in mapping:\n",
    "        mapping[image_id] = []\n",
    "    # store the caption\n",
    "    mapping[image_id].append(caption)"
   ]
  },
  {
   "cell_type": "code",
   "execution_count": null,
   "metadata": {
    "execution": {
     "iopub.execute_input": "2022-03-06T06:42:35.522414Z",
     "iopub.status.busy": "2022-03-06T06:42:35.522031Z",
     "iopub.status.idle": "2022-03-06T06:42:35.530158Z",
     "shell.execute_reply": "2022-03-06T06:42:35.529170Z",
     "shell.execute_reply.started": "2022-03-06T06:42:35.522377Z"
    },
    "id": "I606c-MSdq5R"
   },
   "outputs": [],
   "source": [
    "len(mapping)"
   ]
  },
  {
   "cell_type": "markdown",
   "metadata": {
    "id": "kYBTlyTbdq5S"
   },
   "source": [
    "## Preprocess Text Data"
   ]
  },
  {
   "cell_type": "code",
   "execution_count": null,
   "metadata": {
    "execution": {
     "iopub.execute_input": "2022-03-06T06:42:35.531789Z",
     "iopub.status.busy": "2022-03-06T06:42:35.531417Z",
     "iopub.status.idle": "2022-03-06T06:42:35.539936Z",
     "shell.execute_reply": "2022-03-06T06:42:35.539143Z",
     "shell.execute_reply.started": "2022-03-06T06:42:35.531753Z"
    },
    "id": "AUqiL7uWdq5S"
   },
   "outputs": [],
   "source": [
    "def clean(mapping):\n",
    "    for key, captions in mapping.items():\n",
    "        for i in range(len(captions)):\n",
    "            # take one caption at a time\n",
    "            caption = captions[i]\n",
    "            # preprocessing steps\n",
    "            # convert to lowercase\n",
    "            caption = caption.lower()\n",
    "            # delete digits, special chars, etc.,\n",
    "            caption = caption.replace('[^A-Za-z]', '')\n",
    "            # delete additional spaces\n",
    "            caption = caption.replace('\\s+', ' ')\n",
    "            # add start and end tags to the caption\n",
    "            caption = 'startseq ' + \" \".join([word for word in caption.split() if len(word)>1]) + ' endseq'\n",
    "            captions[i] = caption"
   ]
  },
  {
   "cell_type": "code",
   "execution_count": null,
   "metadata": {
    "execution": {
     "iopub.execute_input": "2022-03-06T06:42:35.541972Z",
     "iopub.status.busy": "2022-03-06T06:42:35.541482Z",
     "iopub.status.idle": "2022-03-06T06:42:35.550972Z",
     "shell.execute_reply": "2022-03-06T06:42:35.549978Z",
     "shell.execute_reply.started": "2022-03-06T06:42:35.541937Z"
    },
    "id": "1ZOQT-hldq5S"
   },
   "outputs": [],
   "source": [
    "# before preprocess of text\n",
    "mapping['1000268201_693b08cb0e']"
   ]
  },
  {
   "cell_type": "code",
   "execution_count": null,
   "metadata": {
    "execution": {
     "iopub.execute_input": "2022-03-06T06:42:35.553409Z",
     "iopub.status.busy": "2022-03-06T06:42:35.552825Z",
     "iopub.status.idle": "2022-03-06T06:42:35.692145Z",
     "shell.execute_reply": "2022-03-06T06:42:35.691520Z",
     "shell.execute_reply.started": "2022-03-06T06:42:35.553368Z"
    },
    "id": "__wLXpsEdq5S"
   },
   "outputs": [],
   "source": [
    "# preprocess the text\n",
    "clean(mapping)"
   ]
  },
  {
   "cell_type": "code",
   "execution_count": null,
   "metadata": {
    "execution": {
     "iopub.execute_input": "2022-03-06T06:42:35.693654Z",
     "iopub.status.busy": "2022-03-06T06:42:35.693412Z",
     "iopub.status.idle": "2022-03-06T06:42:35.698691Z",
     "shell.execute_reply": "2022-03-06T06:42:35.697951Z",
     "shell.execute_reply.started": "2022-03-06T06:42:35.693623Z"
    },
    "id": "kcnIBcaGdq5T"
   },
   "outputs": [],
   "source": [
    "# after preprocess of text\n",
    "mapping['1000268201_693b08cb0e']"
   ]
  },
  {
   "cell_type": "code",
   "execution_count": null,
   "metadata": {
    "execution": {
     "iopub.execute_input": "2022-03-06T06:42:35.703681Z",
     "iopub.status.busy": "2022-03-06T06:42:35.703176Z",
     "iopub.status.idle": "2022-03-06T06:42:35.716917Z",
     "shell.execute_reply": "2022-03-06T06:42:35.716311Z",
     "shell.execute_reply.started": "2022-03-06T06:42:35.703644Z"
    },
    "id": "V5e9do6Cdq5T"
   },
   "outputs": [],
   "source": [
    "all_captions = []\n",
    "for key in mapping:\n",
    "    for caption in mapping[key]:\n",
    "        all_captions.append(caption)"
   ]
  },
  {
   "cell_type": "code",
   "execution_count": null,
   "metadata": {
    "execution": {
     "iopub.execute_input": "2022-03-06T06:42:35.719878Z",
     "iopub.status.busy": "2022-03-06T06:42:35.719667Z",
     "iopub.status.idle": "2022-03-06T06:42:35.728236Z",
     "shell.execute_reply": "2022-03-06T06:42:35.727288Z",
     "shell.execute_reply.started": "2022-03-06T06:42:35.719843Z"
    },
    "id": "HHO1jXT0dq5T"
   },
   "outputs": [],
   "source": [
    "len(all_captions)"
   ]
  },
  {
   "cell_type": "code",
   "execution_count": null,
   "metadata": {
    "execution": {
     "iopub.execute_input": "2022-03-06T06:42:35.730327Z",
     "iopub.status.busy": "2022-03-06T06:42:35.730058Z",
     "iopub.status.idle": "2022-03-06T06:42:35.737755Z",
     "shell.execute_reply": "2022-03-06T06:42:35.736976Z",
     "shell.execute_reply.started": "2022-03-06T06:42:35.730295Z"
    },
    "id": "YZZsjeLAdq5T"
   },
   "outputs": [],
   "source": [
    "all_captions[:10]"
   ]
  },
  {
   "cell_type": "code",
   "execution_count": null,
   "metadata": {
    "execution": {
     "iopub.execute_input": "2022-03-06T06:42:35.739724Z",
     "iopub.status.busy": "2022-03-06T06:42:35.739327Z",
     "iopub.status.idle": "2022-03-06T06:42:36.355776Z",
     "shell.execute_reply": "2022-03-06T06:42:36.355062Z",
     "shell.execute_reply.started": "2022-03-06T06:42:35.739686Z"
    },
    "id": "Z3mXhhOkdq5T"
   },
   "outputs": [],
   "source": [
    "# tokenize the text\n",
    "tokenizer = Tokenizer()\n",
    "tokenizer.fit_on_texts(all_captions)\n",
    "vocab_size = len(tokenizer.word_index) + 1"
   ]
  },
  {
   "cell_type": "code",
   "execution_count": null,
   "metadata": {
    "execution": {
     "iopub.execute_input": "2022-03-06T06:42:36.357418Z",
     "iopub.status.busy": "2022-03-06T06:42:36.357182Z",
     "iopub.status.idle": "2022-03-06T06:42:36.362429Z",
     "shell.execute_reply": "2022-03-06T06:42:36.361793Z",
     "shell.execute_reply.started": "2022-03-06T06:42:36.357385Z"
    },
    "id": "8Yy3lNt0dq5T"
   },
   "outputs": [],
   "source": [
    "vocab_size"
   ]
  },
  {
   "cell_type": "code",
   "execution_count": null,
   "metadata": {
    "execution": {
     "iopub.execute_input": "2022-03-06T06:42:36.364347Z",
     "iopub.status.busy": "2022-03-06T06:42:36.363844Z",
     "iopub.status.idle": "2022-03-06T06:42:36.403655Z",
     "shell.execute_reply": "2022-03-06T06:42:36.402785Z",
     "shell.execute_reply.started": "2022-03-06T06:42:36.364309Z"
    },
    "id": "5aLb859mdq5T"
   },
   "outputs": [],
   "source": [
    "# get maximum length of the caption available\n",
    "max_length = max(len(caption.split()) for caption in all_captions)\n",
    "max_length"
   ]
  },
  {
   "cell_type": "markdown",
   "metadata": {
    "id": "nTrnOaPQdq5U"
   },
   "source": [
    "## Train Test Split"
   ]
  },
  {
   "cell_type": "code",
   "execution_count": null,
   "metadata": {
    "execution": {
     "iopub.execute_input": "2022-03-06T06:42:36.406025Z",
     "iopub.status.busy": "2022-03-06T06:42:36.405019Z",
     "iopub.status.idle": "2022-03-06T06:42:36.411229Z",
     "shell.execute_reply": "2022-03-06T06:42:36.410251Z",
     "shell.execute_reply.started": "2022-03-06T06:42:36.405987Z"
    },
    "id": "B39p7EDjdq5U"
   },
   "outputs": [],
   "source": [
    "image_ids = list(mapping.keys())\n",
    "split = int(len(image_ids) * 0.90)\n",
    "train = image_ids[:split]\n",
    "test = image_ids[split:]"
   ]
  },
  {
   "cell_type": "code",
   "execution_count": null,
   "metadata": {
    "execution": {
     "iopub.execute_input": "2022-03-06T06:42:36.413094Z",
     "iopub.status.busy": "2022-03-06T06:42:36.412818Z",
     "iopub.status.idle": "2022-03-06T06:42:36.420669Z",
     "shell.execute_reply": "2022-03-06T06:42:36.419873Z",
     "shell.execute_reply.started": "2022-03-06T06:42:36.413060Z"
    },
    "id": "du8-UXt1dq5U"
   },
   "outputs": [],
   "source": [
    "# startseq girl going into wooden building endseq\n",
    "#        X                   y\n",
    "# startseq                   girl\n",
    "# startseq girl              going\n",
    "# startseq girl going        into\n",
    "# ...........\n",
    "# startseq girl going into wooden building      endseq"
   ]
  },
  {
   "cell_type": "code",
   "execution_count": null,
   "metadata": {
    "execution": {
     "iopub.execute_input": "2022-03-06T06:42:36.422292Z",
     "iopub.status.busy": "2022-03-06T06:42:36.422033Z",
     "iopub.status.idle": "2022-03-06T06:42:36.434535Z",
     "shell.execute_reply": "2022-03-06T06:42:36.433711Z",
     "shell.execute_reply.started": "2022-03-06T06:42:36.422261Z"
    },
    "id": "PXScqs_9dq5U"
   },
   "outputs": [],
   "source": [
    "def data_generator(data_keys, mapping, features, tokenizer, max_length, vocab_size, batch_size):\n",
    "    # loop over images\n",
    "    X1, X2, y = list(), list(), list()\n",
    "    n = 0\n",
    "    while 1:\n",
    "        for key in data_keys:\n",
    "            if key not in features:  # Check if key exists in features dictionary\n",
    "                continue\n",
    "            n += 1\n",
    "            captions = mapping[key]\n",
    "            # process each caption\n",
    "            for caption in captions:\n",
    "                # encode the sequence\n",
    "                seq = tokenizer.texts_to_sequences([caption])[0]\n",
    "                # split the sequence into X, y pairs\n",
    "                for i in range(1, len(seq)):\n",
    "                    # split into input and output pairs\n",
    "                    in_seq, out_seq = seq[:i], seq[i]\n",
    "                    # pad input sequence\n",
    "                    in_seq = pad_sequences([in_seq], maxlen=max_length)[0]\n",
    "                    # encode output sequence\n",
    "                    out_seq = to_categorical([out_seq], num_classes=vocab_size)[0]\n",
    "\n",
    "                    # store the sequences\n",
    "                    X1.append(features[key][0])\n",
    "                    X2.append(in_seq)\n",
    "                    y.append(out_seq)\n",
    "            if n == batch_size:\n",
    "                X1, X2, y = np.array(X1), np.array(X2), np.array(y)\n",
    "                yield {\"image\": X1, \"text\": X2}, y\n",
    "                X1, X2, y = list(), list(), list()\n",
    "                n = 0\n"
   ]
  },
  {
   "cell_type": "markdown",
   "metadata": {
    "id": "mYGe_dbYdq5U"
   },
   "source": [
    "## Model Creation"
   ]
  },
  {
   "cell_type": "code",
   "execution_count": null,
   "metadata": {
    "execution": {
     "iopub.execute_input": "2022-03-06T06:42:36.435949Z",
     "iopub.status.busy": "2022-03-06T06:42:36.435684Z",
     "iopub.status.idle": "2022-03-06T06:42:38.472355Z",
     "shell.execute_reply": "2022-03-06T06:42:38.469216Z",
     "shell.execute_reply.started": "2022-03-06T06:42:36.435912Z"
    },
    "id": "VKmGODa9dq5U"
   },
   "outputs": [],
   "source": [
    "# encoder model\n",
    "# image feature layers\n",
    "inputs1 = Input(shape=(4096,), name=\"image\")\n",
    "fe1 = Dropout(0.4)(inputs1)\n",
    "fe2 = Dense(256, activation='relu')(fe1)\n",
    "# sequence feature layers\n",
    "inputs2 = Input(shape=(max_length,), name=\"text\")\n",
    "se1 = Embedding(vocab_size, 256, mask_zero=True)(inputs2)\n",
    "se2 = Dropout(0.4)(se1)\n",
    "se3 = LSTM(256)(se2)\n",
    "\n",
    "# decoder model\n",
    "decoder1 = add([fe2, se3])\n",
    "decoder2 = Dense(256, activation='relu')(decoder1)\n",
    "outputs = Dense(vocab_size, activation='softmax')(decoder2)\n",
    "\n",
    "model = Model(inputs=[inputs1, inputs2], outputs=outputs)\n",
    "model.compile(loss='categorical_crossentropy', optimizer='adam')\n",
    "\n",
    "# plot the model\n",
    "plot_model(model, show_shapes=True)"
   ]
  },
  {
   "cell_type": "code",
   "execution_count": null,
   "metadata": {
    "execution": {
     "iopub.execute_input": "2022-03-06T06:42:38.474530Z",
     "iopub.status.busy": "2022-03-06T06:42:38.474040Z",
     "iopub.status.idle": "2022-03-06T07:06:15.926491Z",
     "shell.execute_reply": "2022-03-06T07:06:15.925776Z",
     "shell.execute_reply.started": "2022-03-06T06:42:38.474487Z"
    },
    "id": "0ko8gTNpdq5U"
   },
   "outputs": [],
   "source": [
    "# train the model\n",
    "epochs = 3\n",
    "batch_size = 32\n",
    "steps = len(train) // batch_size\n",
    "\n",
    "for i in range(epochs):\n",
    "    # create data generator\n",
    "    generator = data_generator(train, mapping, features, tokenizer, max_length, vocab_size, batch_size)\n",
    "    # fit for one epoch\n",
    "    try:\n",
    "        model.fit(generator, epochs=1, steps_per_epoch=steps, verbose=1)\n",
    "    except KeyError as e:\n",
    "        print(f\"Ignoring key error: {e}\")\n"
   ]
  },
  {
   "cell_type": "code",
   "execution_count": null,
   "metadata": {
    "execution": {
     "iopub.execute_input": "2022-03-06T07:06:15.928220Z",
     "iopub.status.busy": "2022-03-06T07:06:15.927965Z",
     "iopub.status.idle": "2022-03-06T07:06:16.090583Z",
     "shell.execute_reply": "2022-03-06T07:06:16.088709Z",
     "shell.execute_reply.started": "2022-03-06T07:06:15.928186Z"
    },
    "id": "0Btb6YFsdq5U"
   },
   "outputs": [],
   "source": [
    "# save the model\n",
    "model.save(WORKING_DIR+'/best_model.h5')"
   ]
  },
  {
   "cell_type": "markdown",
   "metadata": {
    "id": "1ESqJbV_dq5U"
   },
   "source": [
    "## Generate Captions for the Image"
   ]
  },
  {
   "cell_type": "code",
   "execution_count": null,
   "metadata": {
    "execution": {
     "iopub.execute_input": "2022-03-06T07:06:16.093448Z",
     "iopub.status.busy": "2022-03-06T07:06:16.092736Z",
     "iopub.status.idle": "2022-03-06T07:06:16.100031Z",
     "shell.execute_reply": "2022-03-06T07:06:16.098267Z",
     "shell.execute_reply.started": "2022-03-06T07:06:16.093377Z"
    },
    "id": "3Cjyc47Ddq5U"
   },
   "outputs": [],
   "source": [
    "def idx_to_word(integer, tokenizer):\n",
    "    for word, index in tokenizer.word_index.items():\n",
    "        if index == integer:\n",
    "            return word\n",
    "    return None"
   ]
  },
  {
   "cell_type": "code",
   "execution_count": null,
   "metadata": {
    "execution": {
     "iopub.execute_input": "2022-03-06T07:06:16.108028Z",
     "iopub.status.busy": "2022-03-06T07:06:16.102398Z",
     "iopub.status.idle": "2022-03-06T07:06:16.122532Z",
     "shell.execute_reply": "2022-03-06T07:06:16.121669Z",
     "shell.execute_reply.started": "2022-03-06T07:06:16.107982Z"
    },
    "id": "hXDX-2csdq5U"
   },
   "outputs": [],
   "source": [
    "# generate caption for an image\n",
    "def predict_caption(model, image, tokenizer, max_length):\n",
    "    # add start tag for generation process\n",
    "    in_text = 'startseq'\n",
    "    # iterate over the max length of sequence\n",
    "    for i in range(max_length):\n",
    "        # encode input sequence\n",
    "        sequence = tokenizer.texts_to_sequences([in_text])[0]\n",
    "        # pad the sequence\n",
    "        sequence = pad_sequences([sequence], max_length)\n",
    "        # predict next word\n",
    "        yhat = model.predict([image, sequence], verbose=0)\n",
    "        # get index with high probability\n",
    "        yhat = np.argmax(yhat)\n",
    "        # convert index to word\n",
    "        word = idx_to_word(yhat, tokenizer)\n",
    "        # stop if word not found\n",
    "        if word is None:\n",
    "            break\n",
    "        # append word as input for generating next word\n",
    "        in_text += \" \" + word\n",
    "        # stop if we reach end tag\n",
    "        if word == 'endseq':\n",
    "            break\n",
    "\n",
    "    return in_text"
   ]
  },
  {
   "cell_type": "code",
   "execution_count": null,
   "metadata": {
    "execution": {
     "iopub.execute_input": "2022-03-06T07:06:16.124177Z",
     "iopub.status.busy": "2022-03-06T07:06:16.123749Z",
     "iopub.status.idle": "2022-03-06T07:12:27.075826Z",
     "shell.execute_reply": "2022-03-06T07:12:27.075089Z",
     "shell.execute_reply.started": "2022-03-06T07:06:16.124139Z"
    },
    "id": "tTKzDaB8dq5V"
   },
   "outputs": [],
   "source": [
    "from nltk.translate.bleu_score import corpus_bleu\n",
    "\n",
    "# Validate with test data\n",
    "actual, predicted = list(), list()\n",
    "\n",
    "for key in tqdm(test):\n",
    "    if key not in features:  # Check if key exists in features dictionary\n",
    "        continue\n",
    "    # Get actual caption\n",
    "    captions = mapping[key]\n",
    "    # Predict the caption for image\n",
    "    y_pred = predict_caption(model, features[key], tokenizer, max_length)\n",
    "    # Split into words\n",
    "    actual_captions = [caption.split() for caption in captions]\n",
    "    y_pred = y_pred.split()\n",
    "    # Append to the list\n",
    "    actual.append(actual_captions)\n",
    "    predicted.append(y_pred)\n",
    "\n",
    "# Calculate BLEU score if there are predictions\n",
    "if predicted:\n",
    "    print(\"BLEU-1: %f\" % corpus_bleu(actual, predicted, weights=(1.0, 0, 0, 0)))\n",
    "    print(\"BLEU-2: %f\" % corpus_bleu(actual, predicted, weights=(0.5, 0.5, 0, 0)))\n",
    "else:\n",
    "    print(\"No predictions made, unable to calculate BLEU score.\")\n"
   ]
  },
  {
   "cell_type": "markdown",
   "metadata": {
    "id": "xiOgQB7Sdq5V"
   },
   "source": [
    "## Visualize the Results"
   ]
  },
  {
   "cell_type": "code",
   "execution_count": null,
   "metadata": {
    "execution": {
     "iopub.execute_input": "2022-03-06T07:12:27.077550Z",
     "iopub.status.busy": "2022-03-06T07:12:27.077132Z",
     "iopub.status.idle": "2022-03-06T07:12:27.084620Z",
     "shell.execute_reply": "2022-03-06T07:12:27.083943Z",
     "shell.execute_reply.started": "2022-03-06T07:12:27.077509Z"
    },
    "id": "SKqNTYXOdq5V"
   },
   "outputs": [],
   "source": [
    "from PIL import Image\n",
    "import matplotlib.pyplot as plt\n",
    "def generate_caption(image_name):\n",
    "    # load the image\n",
    "    # image_name = \"1001773457_577c3a7d70.jpg\"\n",
    "    image_id = image_name.split('.')[0]\n",
    "    img_path = os.path.join(BASE_DIR, \"Images\", image_name)\n",
    "    image = Image.open(img_path)\n",
    "    captions = mapping[image_id]\n",
    "    print('---------------------Actual---------------------')\n",
    "    for caption in captions:\n",
    "        print(caption)\n",
    "    # predict the caption\n",
    "    y_pred = predict_caption(model, features[image_id], tokenizer, max_length)\n",
    "    print('--------------------Predicted--------------------')\n",
    "    print(y_pred)\n",
    "    plt.imshow(image)"
   ]
  },
  {
   "cell_type": "code",
   "execution_count": null,
   "metadata": {
    "colab": {
     "base_uri": "https://localhost:8080/",
     "height": 141
    },
    "execution": {
     "iopub.execute_input": "2022-03-06T07:12:27.086378Z",
     "iopub.status.busy": "2022-03-06T07:12:27.085839Z",
     "iopub.status.idle": "2022-03-06T07:12:27.811836Z",
     "shell.execute_reply": "2022-03-06T07:12:27.811100Z",
     "shell.execute_reply.started": "2022-03-06T07:12:27.086340Z"
    },
    "id": "Spfm2tQcdq5V",
    "outputId": "4b420709-b454-4066-b87d-b8e3f8c4204c"
   },
   "outputs": [],
   "source": [
    "generate_caption(\"1001773457_577c3a7d70.jpg\")"
   ]
  },
  {
   "cell_type": "code",
   "execution_count": null,
   "metadata": {
    "execution": {
     "iopub.execute_input": "2022-03-06T07:12:27.813391Z",
     "iopub.status.busy": "2022-03-06T07:12:27.812965Z",
     "iopub.status.idle": "2022-03-06T07:12:28.645372Z",
     "shell.execute_reply": "2022-03-06T07:12:28.644695Z",
     "shell.execute_reply.started": "2022-03-06T07:12:27.813352Z"
    },
    "id": "igEscetUdq5V"
   },
   "outputs": [],
   "source": [
    "generate_caption(\"1002674143_1b742ab4b8.jpg\")"
   ]
  },
  {
   "cell_type": "code",
   "execution_count": null,
   "metadata": {
    "execution": {
     "iopub.execute_input": "2022-03-06T07:12:28.647257Z",
     "iopub.status.busy": "2022-03-06T07:12:28.646519Z",
     "iopub.status.idle": "2022-03-06T07:12:29.247604Z",
     "shell.execute_reply": "2022-03-06T07:12:29.246938Z",
     "shell.execute_reply.started": "2022-03-06T07:12:28.647219Z"
    },
    "id": "X_n35tzOdq5W"
   },
   "outputs": [],
   "source": [
    "generate_caption(\"101669240_b2d3e7f17b.jpg\")"
   ]
  },
  {
   "cell_type": "markdown",
   "metadata": {},
   "source": [
    "## Test with Real Image"
   ]
  },
  {
   "cell_type": "code",
   "execution_count": null,
   "metadata": {},
   "outputs": [],
   "source": [
    "vgg_model = VGG16()\n",
    "# restructure the model\n",
    "vgg_model = Model(inputs=vgg_model.inputs, outputs=vgg_model.layers[-2].output)"
   ]
  },
  {
   "cell_type": "code",
   "execution_count": null,
   "metadata": {},
   "outputs": [],
   "source": [
    "image_path  =  '/kaggle/input/flickr8k/Images/1000268201_693b08cb0e.jpg' \n",
    "# load image \n",
    "image = load_img(image_path, target_size=(224, 224)) \n",
    "# convert image pixels to numpy array \n",
    "image = img_to_array(image) \n",
    "# reshape data for model \n",
    "image = image.reshape((1, image.shape[0], image.shape[1], image.shape[2])) \n",
    "# preprocess image for vgg \n",
    "image = preprocess_input(image) \n",
    "# extract features \n",
    "feature = vgg_model.predict(image, verbose=0) \n",
    "# predict from the trained model \n",
    "predict_caption(model, feature, tokenizer, max_length) "
   ]
  }
 ],
 "metadata": {
  "colab": {
   "provenance": []
  },
  "kernelspec": {
   "display_name": "Python 3 (ipykernel)",
   "language": "python",
   "name": "python3"
  },
  "language_info": {
   "codemirror_mode": {
    "name": "ipython",
    "version": 3
   },
   "file_extension": ".py",
   "mimetype": "text/x-python",
   "name": "python",
   "nbconvert_exporter": "python",
   "pygments_lexer": "ipython3",
   "version": "3.11.5"
  },
  "widgets": {
   "application/vnd.jupyter.widget-state+json": {
    "02ec522b1d214e4185f18233d4097127": {
     "model_module": "@jupyter-widgets/controls",
     "model_module_version": "1.5.0",
     "model_name": "ProgressStyleModel",
     "state": {
      "_model_module": "@jupyter-widgets/controls",
      "_model_module_version": "1.5.0",
      "_model_name": "ProgressStyleModel",
      "_view_count": null,
      "_view_module": "@jupyter-widgets/base",
      "_view_module_version": "1.2.0",
      "_view_name": "StyleView",
      "bar_color": null,
      "description_width": ""
     }
    },
    "1b5d1b666d5142429e83e18194dfd65f": {
     "model_module": "@jupyter-widgets/base",
     "model_module_version": "1.2.0",
     "model_name": "LayoutModel",
     "state": {
      "_model_module": "@jupyter-widgets/base",
      "_model_module_version": "1.2.0",
      "_model_name": "LayoutModel",
      "_view_count": null,
      "_view_module": "@jupyter-widgets/base",
      "_view_module_version": "1.2.0",
      "_view_name": "LayoutView",
      "align_content": null,
      "align_items": null,
      "align_self": null,
      "border": null,
      "bottom": null,
      "display": null,
      "flex": null,
      "flex_flow": null,
      "grid_area": null,
      "grid_auto_columns": null,
      "grid_auto_flow": null,
      "grid_auto_rows": null,
      "grid_column": null,
      "grid_gap": null,
      "grid_row": null,
      "grid_template_areas": null,
      "grid_template_columns": null,
      "grid_template_rows": null,
      "height": null,
      "justify_content": null,
      "justify_items": null,
      "left": null,
      "margin": null,
      "max_height": null,
      "max_width": null,
      "min_height": null,
      "min_width": null,
      "object_fit": null,
      "object_position": null,
      "order": null,
      "overflow": null,
      "overflow_x": null,
      "overflow_y": null,
      "padding": null,
      "right": null,
      "top": null,
      "visibility": null,
      "width": null
     }
    },
    "452946eefe3e4178b27b15b4cda7e224": {
     "model_module": "@jupyter-widgets/controls",
     "model_module_version": "1.5.0",
     "model_name": "HTMLModel",
     "state": {
      "_dom_classes": [],
      "_model_module": "@jupyter-widgets/controls",
      "_model_module_version": "1.5.0",
      "_model_name": "HTMLModel",
      "_view_count": null,
      "_view_module": "@jupyter-widgets/controls",
      "_view_module_version": "1.5.0",
      "_view_name": "HTMLView",
      "description": "",
      "description_tooltip": null,
      "layout": "IPY_MODEL_fa2a4fc49e3f458da47198e72726b65a",
      "placeholder": "​",
      "style": "IPY_MODEL_5feedc56b31e498a93d777b173c1657b",
      "value": "100%"
     }
    },
    "4a3868b17bba4171be93a1f6a1be4214": {
     "model_module": "@jupyter-widgets/base",
     "model_module_version": "1.2.0",
     "model_name": "LayoutModel",
     "state": {
      "_model_module": "@jupyter-widgets/base",
      "_model_module_version": "1.2.0",
      "_model_name": "LayoutModel",
      "_view_count": null,
      "_view_module": "@jupyter-widgets/base",
      "_view_module_version": "1.2.0",
      "_view_name": "LayoutView",
      "align_content": null,
      "align_items": null,
      "align_self": null,
      "border": null,
      "bottom": null,
      "display": null,
      "flex": null,
      "flex_flow": null,
      "grid_area": null,
      "grid_auto_columns": null,
      "grid_auto_flow": null,
      "grid_auto_rows": null,
      "grid_column": null,
      "grid_gap": null,
      "grid_row": null,
      "grid_template_areas": null,
      "grid_template_columns": null,
      "grid_template_rows": null,
      "height": null,
      "justify_content": null,
      "justify_items": null,
      "left": null,
      "margin": null,
      "max_height": null,
      "max_width": null,
      "min_height": null,
      "min_width": null,
      "object_fit": null,
      "object_position": null,
      "order": null,
      "overflow": null,
      "overflow_x": null,
      "overflow_y": null,
      "padding": null,
      "right": null,
      "top": null,
      "visibility": null,
      "width": null
     }
    },
    "5961d8ecdd36474293bd2e5a4c89dfd6": {
     "model_module": "@jupyter-widgets/controls",
     "model_module_version": "1.5.0",
     "model_name": "DescriptionStyleModel",
     "state": {
      "_model_module": "@jupyter-widgets/controls",
      "_model_module_version": "1.5.0",
      "_model_name": "DescriptionStyleModel",
      "_view_count": null,
      "_view_module": "@jupyter-widgets/base",
      "_view_module_version": "1.2.0",
      "_view_name": "StyleView",
      "description_width": ""
     }
    },
    "5a47aa12805d470eb700761dcbe522f3": {
     "model_module": "@jupyter-widgets/base",
     "model_module_version": "1.2.0",
     "model_name": "LayoutModel",
     "state": {
      "_model_module": "@jupyter-widgets/base",
      "_model_module_version": "1.2.0",
      "_model_name": "LayoutModel",
      "_view_count": null,
      "_view_module": "@jupyter-widgets/base",
      "_view_module_version": "1.2.0",
      "_view_name": "LayoutView",
      "align_content": null,
      "align_items": null,
      "align_self": null,
      "border": null,
      "bottom": null,
      "display": null,
      "flex": null,
      "flex_flow": null,
      "grid_area": null,
      "grid_auto_columns": null,
      "grid_auto_flow": null,
      "grid_auto_rows": null,
      "grid_column": null,
      "grid_gap": null,
      "grid_row": null,
      "grid_template_areas": null,
      "grid_template_columns": null,
      "grid_template_rows": null,
      "height": null,
      "justify_content": null,
      "justify_items": null,
      "left": null,
      "margin": null,
      "max_height": null,
      "max_width": null,
      "min_height": null,
      "min_width": null,
      "object_fit": null,
      "object_position": null,
      "order": null,
      "overflow": null,
      "overflow_x": null,
      "overflow_y": null,
      "padding": null,
      "right": null,
      "top": null,
      "visibility": null,
      "width": null
     }
    },
    "5cce5f9f16cb402489ea8e5d3ebe021c": {
     "model_module": "@jupyter-widgets/controls",
     "model_module_version": "1.5.0",
     "model_name": "HTMLModel",
     "state": {
      "_dom_classes": [],
      "_model_module": "@jupyter-widgets/controls",
      "_model_module_version": "1.5.0",
      "_model_name": "HTMLModel",
      "_view_count": null,
      "_view_module": "@jupyter-widgets/controls",
      "_view_module_version": "1.5.0",
      "_view_name": "HTMLView",
      "description": "",
      "description_tooltip": null,
      "layout": "IPY_MODEL_5a47aa12805d470eb700761dcbe522f3",
      "placeholder": "​",
      "style": "IPY_MODEL_5961d8ecdd36474293bd2e5a4c89dfd6",
      "value": " 8091/8091 [1:36:34&lt;00:00,  1.52it/s]"
     }
    },
    "5feedc56b31e498a93d777b173c1657b": {
     "model_module": "@jupyter-widgets/controls",
     "model_module_version": "1.5.0",
     "model_name": "DescriptionStyleModel",
     "state": {
      "_model_module": "@jupyter-widgets/controls",
      "_model_module_version": "1.5.0",
      "_model_name": "DescriptionStyleModel",
      "_view_count": null,
      "_view_module": "@jupyter-widgets/base",
      "_view_module_version": "1.2.0",
      "_view_name": "StyleView",
      "description_width": ""
     }
    },
    "6e11e59497ff4e6788cfef418d78ecc1": {
     "model_module": "@jupyter-widgets/controls",
     "model_module_version": "1.5.0",
     "model_name": "FloatProgressModel",
     "state": {
      "_dom_classes": [],
      "_model_module": "@jupyter-widgets/controls",
      "_model_module_version": "1.5.0",
      "_model_name": "FloatProgressModel",
      "_view_count": null,
      "_view_module": "@jupyter-widgets/controls",
      "_view_module_version": "1.5.0",
      "_view_name": "ProgressView",
      "bar_style": "success",
      "description": "",
      "description_tooltip": null,
      "layout": "IPY_MODEL_1b5d1b666d5142429e83e18194dfd65f",
      "max": 8091,
      "min": 0,
      "orientation": "horizontal",
      "style": "IPY_MODEL_02ec522b1d214e4185f18233d4097127",
      "value": 8091
     }
    },
    "ede3a47bee4248ea93272837b497bcab": {
     "model_module": "@jupyter-widgets/controls",
     "model_module_version": "1.5.0",
     "model_name": "HBoxModel",
     "state": {
      "_dom_classes": [],
      "_model_module": "@jupyter-widgets/controls",
      "_model_module_version": "1.5.0",
      "_model_name": "HBoxModel",
      "_view_count": null,
      "_view_module": "@jupyter-widgets/controls",
      "_view_module_version": "1.5.0",
      "_view_name": "HBoxView",
      "box_style": "",
      "children": [
       "IPY_MODEL_452946eefe3e4178b27b15b4cda7e224",
       "IPY_MODEL_6e11e59497ff4e6788cfef418d78ecc1",
       "IPY_MODEL_5cce5f9f16cb402489ea8e5d3ebe021c"
      ],
      "layout": "IPY_MODEL_4a3868b17bba4171be93a1f6a1be4214"
     }
    },
    "fa2a4fc49e3f458da47198e72726b65a": {
     "model_module": "@jupyter-widgets/base",
     "model_module_version": "1.2.0",
     "model_name": "LayoutModel",
     "state": {
      "_model_module": "@jupyter-widgets/base",
      "_model_module_version": "1.2.0",
      "_model_name": "LayoutModel",
      "_view_count": null,
      "_view_module": "@jupyter-widgets/base",
      "_view_module_version": "1.2.0",
      "_view_name": "LayoutView",
      "align_content": null,
      "align_items": null,
      "align_self": null,
      "border": null,
      "bottom": null,
      "display": null,
      "flex": null,
      "flex_flow": null,
      "grid_area": null,
      "grid_auto_columns": null,
      "grid_auto_flow": null,
      "grid_auto_rows": null,
      "grid_column": null,
      "grid_gap": null,
      "grid_row": null,
      "grid_template_areas": null,
      "grid_template_columns": null,
      "grid_template_rows": null,
      "height": null,
      "justify_content": null,
      "justify_items": null,
      "left": null,
      "margin": null,
      "max_height": null,
      "max_width": null,
      "min_height": null,
      "min_width": null,
      "object_fit": null,
      "object_position": null,
      "order": null,
      "overflow": null,
      "overflow_x": null,
      "overflow_y": null,
      "padding": null,
      "right": null,
      "top": null,
      "visibility": null,
      "width": null
     }
    }
   }
  }
 },
 "nbformat": 4,
 "nbformat_minor": 0
}
